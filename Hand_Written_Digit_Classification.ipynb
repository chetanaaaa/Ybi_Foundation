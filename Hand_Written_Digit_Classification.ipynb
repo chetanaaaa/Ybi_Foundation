{
  "nbformat": 4,
  "nbformat_minor": 0,
  "metadata": {
    "colab": {
      "provenance": []
    },
    "kernelspec": {
      "name": "python3",
      "display_name": "Python 3"
    },
    "language_info": {
      "name": "python"
    }
  },
  "cells": [
    {
      "cell_type": "markdown",
      "source": [
        "#**Hand Written Digit Pridiction-Classification Analysis**"
      ],
      "metadata": {
        "id": "VV3lqGX-2cRm"
      }
    },
    {
      "cell_type": "markdown",
      "source": [
        "#####**The digits dataset consists of 8x8 pixel images of digits.The images attribute of dataset stores 8x8 arrays of grayscale values for each image .We will use these arrays to visualise the first 4 images.The target attribute of dataset stores digit each image represents**"
      ],
      "metadata": {
        "id": "Ahf4lAlJ2sQO"
      }
    },
    {
      "cell_type": "markdown",
      "source": [
        "#**Import Library**"
      ],
      "metadata": {
        "id": "sgfbGQix3fr1"
      }
    },
    {
      "cell_type": "code",
      "execution_count": 1,
      "metadata": {
        "id": "EmfgK5v02M0Y"
      },
      "outputs": [],
      "source": [
        "import pandas as pd\n",
        "import numpy as np\n",
        "import matplotlib.pyplot as plt"
      ]
    },
    {
      "cell_type": "markdown",
      "source": [
        "#**Import data**"
      ],
      "metadata": {
        "id": "n2REcZdh3shq"
      }
    },
    {
      "cell_type": "code",
      "source": [
        "from sklearn.datasets import load_digits"
      ],
      "metadata": {
        "id": "OJsHTeRy2o7U"
      },
      "execution_count": 2,
      "outputs": []
    },
    {
      "cell_type": "code",
      "source": [
        "df=load_digits()"
      ],
      "metadata": {
        "id": "HeLt2mnR36AR"
      },
      "execution_count": 3,
      "outputs": []
    },
    {
      "cell_type": "code",
      "source": [
        "_, axes=plt.subplots(nrows=1,ncols=4,figsize=(10,3))\n",
        "for ax,image,label in zip(axes,df.images,df.target):\n",
        "  ax.set_axis_off()\n",
        "  ax.imshow(image,cmap=plt.cm.gray_r,interpolation=\"nearest\")\n",
        "  ax.set_title(\"Training %i\" %label)"
      ],
      "metadata": {
        "colab": {
          "base_uri": "https://localhost:8080/",
          "height": 227
        },
        "id": "W-kvfP2_39Fi",
        "outputId": "46c25519-d6d5-4bd2-ddf6-f16032899f99"
      },
      "execution_count": 6,
      "outputs": [
        {
          "output_type": "display_data",
          "data": {
            "text/plain": [
              "<Figure size 1000x300 with 4 Axes>"
            ],
            "image/png": "[encoded data removed]"
          },
          "metadata": {}
        }
      ]
    },
    {
      "cell_type": "markdown",
      "source": [
        "#**Data Preprocessing**"
      ],
      "metadata": {
        "id": "aHpdXYYX45Uk"
      }
    },
    {
      "cell_type": "code",
      "source": [
        "df.images.shape"
      ],
      "metadata": {
        "colab": {
          "base_uri": "https://localhost:8080/"
        },
        "id": "f3F73sNV4zNx",
        "outputId": "75304ad9-60af-48e5-f643-676660dc97d0"
      },
      "execution_count": 7,
      "outputs": [
        {
          "output_type": "execute_result",
          "data": {
            "text/plain": [
              "(1797, 8, 8)"
            ]
          },
          "metadata": {},
          "execution_count": 7
        }
      ]
    },
    {
      "cell_type": "code",
      "source": [
        "df.images[0]"
      ],
      "metadata": {
        "colab": {
          "base_uri": "https://localhost:8080/"
        },
        "id": "kCHZ4N4f5D4F",
        "outputId": "28e8276d-7a97-46fb-b641-49089d9037c0"
      },
      "execution_count": 8,
      "outputs": [
        {
          "output_type": "execute_result",
          "data": {
            "text/plain": [
              "array([[ 0.,  0.,  5., 13.,  9.,  1.,  0.,  0.],\n",
              "       [ 0.,  0., 13., 15., 10., 15.,  5.,  0.],\n",
              "       [ 0.,  3., 15.,  2.,  0., 11.,  8.,  0.],\n",
              "       [ 0.,  4., 12.,  0.,  0.,  8.,  8.,  0.],\n",
              "       [ 0.,  5.,  8.,  0.,  0.,  9.,  8.,  0.],\n",
              "       [ 0.,  4., 11.,  0.,  1., 12.,  7.,  0.],\n",
              "       [ 0.,  2., 14.,  5., 10., 12.,  0.,  0.],\n",
              "       [ 0.,  0.,  6., 13., 10.,  0.,  0.,  0.]])"
            ]
          },
          "metadata": {},
          "execution_count": 8
        }
      ]
    },
    {
      "cell_type": "code",
      "source": [
        "df.images[0].shape"
      ],
      "metadata": {
        "colab": {
          "base_uri": "https://localhost:8080/"
        },
        "id": "w5CVLX6G5FXt",
        "outputId": "45330113-408d-46eb-b1d8-24a47931bc80"
      },
      "execution_count": 9,
      "outputs": [
        {
          "output_type": "execute_result",
          "data": {
            "text/plain": [
              "(8, 8)"
            ]
          },
          "metadata": {},
          "execution_count": 9
        }
      ]
    },
    {
      "cell_type": "code",
      "source": [
        "len(df.images)"
      ],
      "metadata": {
        "colab": {
          "base_uri": "https://localhost:8080/"
        },
        "id": "kq_4Mpnd5H-g",
        "outputId": "5ce6c897-691a-4fd6-d6a5-d08185819ec8"
      },
      "execution_count": 10,
      "outputs": [
        {
          "output_type": "execute_result",
          "data": {
            "text/plain": [
              "1797"
            ]
          },
          "metadata": {},
          "execution_count": 10
        }
      ]
    },
    {
      "cell_type": "code",
      "source": [
        "n_samples=len(df.images)\n",
        "data=df.images.reshape(n_samples,-1)"
      ],
      "metadata": {
        "id": "ubz8vpjP5Jn0"
      },
      "execution_count": 11,
      "outputs": []
    },
    {
      "cell_type": "code",
      "source": [
        "data[0]"
      ],
      "metadata": {
        "colab": {
          "base_uri": "https://localhost:8080/"
        },
        "id": "xOxQTscH5Qce",
        "outputId": "1643b5bc-cd08-447e-d7c7-5d87e0ac8325"
      },
      "execution_count": 12,
      "outputs": [
        {
          "output_type": "execute_result",
          "data": {
            "text/plain": [
              "array([ 0.,  0.,  5., 13.,  9.,  1.,  0.,  0.,  0.,  0., 13., 15., 10.,\n",
              "       15.,  5.,  0.,  0.,  3., 15.,  2.,  0., 11.,  8.,  0.,  0.,  4.,\n",
              "       12.,  0.,  0.,  8.,  8.,  0.,  0.,  5.,  8.,  0.,  0.,  9.,  8.,\n",
              "        0.,  0.,  4., 11.,  0.,  1., 12.,  7.,  0.,  0.,  2., 14.,  5.,\n",
              "       10., 12.,  0.,  0.,  0.,  0.,  6., 13., 10.,  0.,  0.,  0.])"
            ]
          },
          "metadata": {},
          "execution_count": 12
        }
      ]
    },
    {
      "cell_type": "code",
      "source": [
        "data[0].shape"
      ],
      "metadata": {
        "colab": {
          "base_uri": "https://localhost:8080/"
        },
        "id": "X3JD2Tzp5T0s",
        "outputId": "c08a1e9b-c46a-4135-b99d-10963d278e8c"
      },
      "execution_count": 13,
      "outputs": [
        {
          "output_type": "execute_result",
          "data": {
            "text/plain": [
              "(64,)"
            ]
          },
          "metadata": {},
          "execution_count": 13
        }
      ]
    },
    {
      "cell_type": "code",
      "source": [
        "data.shape"
      ],
      "metadata": {
        "colab": {
          "base_uri": "https://localhost:8080/"
        },
        "id": "T-zfSWOb5W8t",
        "outputId": "d74e608c-097c-4647-e571-d33255c2888a"
      },
      "execution_count": 14,
      "outputs": [
        {
          "output_type": "execute_result",
          "data": {
            "text/plain": [
              "(1797, 64)"
            ]
          },
          "metadata": {},
          "execution_count": 14
        }
      ]
    },
    {
      "cell_type": "markdown",
      "source": [
        "#**Scaling Image Data**"
      ],
      "metadata": {
        "id": "Lilz9rLw5aHF"
      }
    },
    {
      "cell_type": "code",
      "source": [
        "data.min()"
      ],
      "metadata": {
        "colab": {
          "base_uri": "https://localhost:8080/"
        },
        "id": "tNpORYxh5YsL",
        "outputId": "0676c6ff-19aa-413a-a568-6c43f37f5e1e"
      },
      "execution_count": 15,
      "outputs": [
        {
          "output_type": "execute_result",
          "data": {
            "text/plain": [
              "0.0"
            ]
          },
          "metadata": {},
          "execution_count": 15
        }
      ]
    },
    {
      "cell_type": "code",
      "source": [
        "data.max()"
      ],
      "metadata": {
        "colab": {
          "base_uri": "https://localhost:8080/"
        },
        "id": "dOgF4gCy5i_V",
        "outputId": "2a2aa358-3037-40f6-b3b3-d6790383c6a2"
      },
      "execution_count": 16,
      "outputs": [
        {
          "output_type": "execute_result",
          "data": {
            "text/plain": [
              "16.0"
            ]
          },
          "metadata": {},
          "execution_count": 16
        }
      ]
    },
    {
      "cell_type": "code",
      "source": [
        "data=data/16"
      ],
      "metadata": {
        "id": "2ltyJzbd5lco"
      },
      "execution_count": 17,
      "outputs": []
    },
    {
      "cell_type": "code",
      "source": [
        "data.min()"
      ],
      "metadata": {
        "colab": {
          "base_uri": "https://localhost:8080/"
        },
        "id": "462NaoLP5nnS",
        "outputId": "ea710ef3-39ae-48ee-9b70-5e67dbe7cc20"
      },
      "execution_count": 18,
      "outputs": [
        {
          "output_type": "execute_result",
          "data": {
            "text/plain": [
              "0.0"
            ]
          },
          "metadata": {},
          "execution_count": 18
        }
      ]
    },
    {
      "cell_type": "code",
      "source": [
        "data.max()"
      ],
      "metadata": {
        "colab": {
          "base_uri": "https://localhost:8080/"
        },
        "id": "Kxn-MDcc5peU",
        "outputId": "a670d230-d7ee-4b1e-8666-7ded1f4e48b8"
      },
      "execution_count": 19,
      "outputs": [
        {
          "output_type": "execute_result",
          "data": {
            "text/plain": [
              "1.0"
            ]
          },
          "metadata": {},
          "execution_count": 19
        }
      ]
    },
    {
      "cell_type": "code",
      "source": [
        "data[0]"
      ],
      "metadata": {
        "colab": {
          "base_uri": "https://localhost:8080/"
        },
        "id": "MI55pJ8E5rNa",
        "outputId": "ede80fd2-9a55-4b49-9841-6ad92b854988"
      },
      "execution_count": 20,
      "outputs": [
        {
          "output_type": "execute_result",
          "data": {
            "text/plain": [
              "array([0.    , 0.    , 0.3125, 0.8125, 0.5625, 0.0625, 0.    , 0.    ,\n",
              "       0.    , 0.    , 0.8125, 0.9375, 0.625 , 0.9375, 0.3125, 0.    ,\n",
              "       0.    , 0.1875, 0.9375, 0.125 , 0.    , 0.6875, 0.5   , 0.    ,\n",
              "       0.    , 0.25  , 0.75  , 0.    , 0.    , 0.5   , 0.5   , 0.    ,\n",
              "       0.    , 0.3125, 0.5   , 0.    , 0.    , 0.5625, 0.5   , 0.    ,\n",
              "       0.    , 0.25  , 0.6875, 0.    , 0.0625, 0.75  , 0.4375, 0.    ,\n",
              "       0.    , 0.125 , 0.875 , 0.3125, 0.625 , 0.75  , 0.    , 0.    ,\n",
              "       0.    , 0.    , 0.375 , 0.8125, 0.625 , 0.    , 0.    , 0.    ])"
            ]
          },
          "metadata": {},
          "execution_count": 20
        }
      ]
    },
    {
      "cell_type": "markdown",
      "source": [
        "#**Train Test Split Data**"
      ],
      "metadata": {
        "id": "zqqAJw0D5wSA"
      }
    },
    {
      "cell_type": "code",
      "source": [
        "from sklearn.model_selection import train_test_split"
      ],
      "metadata": {
        "id": "rwja551_5tCa"
      },
      "execution_count": 21,
      "outputs": []
    },
    {
      "cell_type": "code",
      "source": [
        "x_train,x_test,y_train,y_test=train_test_split(data,df.target,test_size=0.3)"
      ],
      "metadata": {
        "id": "MIuHYPUc5-L_"
      },
      "execution_count": 22,
      "outputs": []
    },
    {
      "cell_type": "code",
      "source": [
        "x_train.shape,x_test.shape,y_train.shape,y_test.shape"
      ],
      "metadata": {
        "colab": {
          "base_uri": "https://localhost:8080/"
        },
        "id": "OSdW6H9r6JNP",
        "outputId": "e602d18c-e480-4ec5-fb03-647ba77166ec"
      },
      "execution_count": 23,
      "outputs": [
        {
          "output_type": "execute_result",
          "data": {
            "text/plain": [
              "((1257, 64), (540, 64), (1257,), (540,))"
            ]
          },
          "metadata": {},
          "execution_count": 23
        }
      ]
    },
    {
      "cell_type": "markdown",
      "source": [
        "#**Random Forest Model**"
      ],
      "metadata": {
        "id": "X1km-uQR6XRm"
      }
    },
    {
      "cell_type": "code",
      "source": [
        "from sklearn.ensemble import RandomForestClassifier"
      ],
      "metadata": {
        "id": "ldw9IzCP6VsG"
      },
      "execution_count": 24,
      "outputs": []
    },
    {
      "cell_type": "code",
      "source": [
        "rf=RandomForestClassifier()"
      ],
      "metadata": {
        "id": "0NX42SQ66kTp"
      },
      "execution_count": 26,
      "outputs": []
    },
    {
      "cell_type": "code",
      "source": [
        "rf.fit(x_train,y_train)"
      ],
      "metadata": {
        "colab": {
          "base_uri": "https://localhost:8080/",
          "height": 75
        },
        "id": "8S5IwtdE6nQI",
        "outputId": "f6aacad1-6b2a-4bd1-8fa6-b8800cc73d35"
      },
      "execution_count": 27,
      "outputs": [
        {
          "output_type": "execute_result",
          "data": {
            "text/plain": [
              "RandomForestClassifier()"
            ],
            "text/html": [
              "<style>#sk-container-id-1 {color: black;background-color: white;}#sk-container-id-1 pre{padding: 0;}#sk-container-id-1 div.sk-toggleable {background-color: white;}#sk-container-id-1 label.sk-toggleable__label {cursor: pointer;display: block;width: 100%;margin-bottom: 0;padding: 0.3em;box-sizing: border-box;text-align: center;}#sk-container-id-1 label.sk-toggleable__label-arrow:before {content: \"▸\";float: left;margin-right: 0.25em;color: #696969;}#sk-container-id-1 label.sk-toggleable__label-arrow:hover:before {color: black;}#sk-container-id-1 div.sk-estimator:hover label.sk-toggleable__label-arrow:before {color: black;}#sk-container-id-1 div.sk-toggleable__content {max-height: 0;max-width: 0;overflow: hidden;text-align: left;background-color: #f0f8ff;}#sk-container-id-1 div.sk-toggleable__content pre {margin: 0.2em;color: black;border-radius: 0.25em;background-color: #f0f8ff;}#sk-container-id-1 input.sk-toggleable__control:checked~div.sk-toggleable__content {max-height: 200px;max-width: 100%;overflow: auto;}#sk-container-id-1 input.sk-toggleable__control:checked~label.sk-toggleable__label-arrow:before {content: \"▾\";}#sk-container-id-1 div.sk-estimator input.sk-toggleable__control:checked~label.sk-toggleable__label {background-color: #d4ebff;}#sk-container-id-1 div.sk-label input.sk-toggleable__control:checked~label.sk-toggleable__label {background-color: #d4ebff;}#sk-container-id-1 input.sk-hidden--visually {border: 0;clip: rect(1px 1px 1px 1px);clip: rect(1px, 1px, 1px, 1px);height: 1px;margin: -1px;overflow: hidden;padding: 0;position: absolute;width: 1px;}#sk-container-id-1 div.sk-estimator {font-family: monospace;background-color: #f0f8ff;border: 1px dotted black;border-radius: 0.25em;box-sizing: border-box;margin-bottom: 0.5em;}#sk-container-id-1 div.sk-estimator:hover {background-color: #d4ebff;}#sk-container-id-1 div.sk-parallel-item::after {content: \"\";width: 100%;border-bottom: 1px solid gray;flex-grow: 1;}#sk-container-id-1 div.sk-label:hover label.sk-toggleable__label {background-color: #d4ebff;}#sk-container-id-1 div.sk-serial::before {content: \"\";position: absolute;border-left: 1px solid gray;box-sizing: border-box;top: 0;bottom: 0;left: 50%;z-index: 0;}#sk-container-id-1 div.sk-serial {display: flex;flex-direction: column;align-items: center;background-color: white;padding-right: 0.2em;padding-left: 0.2em;position: relative;}#sk-container-id-1 div.sk-item {position: relative;z-index: 1;}#sk-container-id-1 div.sk-parallel {display: flex;align-items: stretch;justify-content: center;background-color: white;position: relative;}#sk-container-id-1 div.sk-item::before, #sk-container-id-1 div.sk-parallel-item::before {content: \"\";position: absolute;border-left: 1px solid gray;box-sizing: border-box;top: 0;bottom: 0;left: 50%;z-index: -1;}#sk-container-id-1 div.sk-parallel-item {display: flex;flex-direction: column;z-index: 1;position: relative;background-color: white;}#sk-container-id-1 div.sk-parallel-item:first-child::after {align-self: flex-end;width: 50%;}#sk-container-id-1 div.sk-parallel-item:last-child::after {align-self: flex-start;width: 50%;}#sk-container-id-1 div.sk-parallel-item:only-child::after {width: 0;}#sk-container-id-1 div.sk-dashed-wrapped {border: 1px dashed gray;margin: 0 0.4em 0.5em 0.4em;box-sizing: border-box;padding-bottom: 0.4em;background-color: white;}#sk-container-id-1 div.sk-label label {font-family: monospace;font-weight: bold;display: inline-block;line-height: 1.2em;}#sk-container-id-1 div.sk-label-container {text-align: center;}#sk-container-id-1 div.sk-container {/* jupyter's `normalize.less` sets `[hidden] { display: none; }` but bootstrap.min.css set `[hidden] { display: none !important; }` so we also need the `!important` here to be able to override the default hidden behavior on the sphinx rendered scikit-learn.org. See: https://github.com/scikit-learn/scikit-learn/issues/21755 */display: inline-block !important;position: relative;}#sk-container-id-1 div.sk-text-repr-fallback {display: none;}</style><div id=\"sk-container-id-1\" class=\"sk-top-container\"><div class=\"sk-text-repr-fallback\"><pre>RandomForestClassifier()</pre><b>In a Jupyter environment, please rerun this cell to show the HTML representation or trust the notebook. <br />On GitHub, the HTML representation is unable to render, please try loading this page with nbviewer.org.</b></div><div class=\"sk-container\" hidden><div class=\"sk-item\"><div class=\"sk-estimator sk-toggleable\"><input class=\"sk-toggleable__control sk-hidden--visually\" id=\"sk-estimator-id-1\" type=\"checkbox\" checked><label for=\"sk-estimator-id-1\" class=\"sk-toggleable__label sk-toggleable__label-arrow\">RandomForestClassifier</label><div class=\"sk-toggleable__content\"><pre>RandomForestClassifier()</pre></div></div></div></div></div>"
            ]
          },
          "metadata": {},
          "execution_count": 27
        }
      ]
    },
    {
      "cell_type": "markdown",
      "source": [
        "#**Predict Test Data**"
      ],
      "metadata": {
        "id": "yDGnDMZo6xpk"
      }
    },
    {
      "cell_type": "code",
      "source": [
        "y_pred=rf.predict(x_test)"
      ],
      "metadata": {
        "id": "J0Wrj0SF6usy"
      },
      "execution_count": 29,
      "outputs": []
    },
    {
      "cell_type": "code",
      "source": [
        "y_pred"
      ],
      "metadata": {
        "colab": {
          "base_uri": "https://localhost:8080/"
        },
        "id": "njiNHg7U637_",
        "outputId": "647fa99d-cf62-455c-bcea-7776b2147965"
      },
      "execution_count": 30,
      "outputs": [
        {
          "output_type": "execute_result",
          "data": {
            "text/plain": [
              "array([8, 4, 7, 0, 5, 8, 5, 4, 0, 7, 3, 7, 4, 0, 6, 1, 1, 9, 4, 9, 4, 0,\n",
              "       9, 7, 9, 7, 9, 3, 4, 2, 3, 4, 7, 5, 9, 9, 0, 6, 6, 4, 9, 8, 2, 3,\n",
              "       8, 7, 6, 6, 4, 7, 4, 6, 9, 5, 2, 7, 8, 8, 5, 9, 8, 9, 4, 5, 3, 5,\n",
              "       1, 3, 8, 7, 1, 1, 1, 5, 1, 5, 0, 2, 3, 2, 2, 5, 5, 0, 6, 5, 4, 9,\n",
              "       1, 8, 8, 6, 7, 4, 2, 7, 5, 1, 8, 7, 4, 1, 1, 0, 7, 9, 9, 6, 5, 3,\n",
              "       2, 2, 5, 8, 1, 4, 7, 8, 3, 8, 2, 7, 8, 7, 7, 6, 7, 0, 3, 1, 4, 5,\n",
              "       8, 8, 8, 5, 3, 5, 1, 6, 7, 3, 3, 0, 9, 0, 1, 3, 7, 1, 8, 3, 1, 8,\n",
              "       0, 9, 8, 1, 8, 7, 3, 6, 9, 3, 0, 7, 5, 0, 0, 7, 8, 2, 6, 3, 9, 8,\n",
              "       9, 6, 9, 3, 7, 8, 5, 6, 7, 4, 5, 2, 4, 1, 2, 0, 3, 5, 5, 7, 3, 9,\n",
              "       9, 3, 4, 5, 1, 0, 4, 2, 1, 4, 4, 6, 1, 6, 0, 6, 1, 5, 6, 4, 9, 9,\n",
              "       7, 6, 4, 3, 1, 1, 6, 9, 2, 1, 8, 6, 1, 4, 6, 6, 0, 5, 9, 3, 0, 3,\n",
              "       2, 7, 3, 7, 3, 1, 4, 1, 2, 5, 5, 8, 4, 3, 9, 5, 6, 0, 9, 5, 9, 3,\n",
              "       9, 4, 0, 4, 6, 0, 2, 5, 1, 6, 2, 6, 0, 8, 1, 2, 2, 3, 7, 6, 3, 6,\n",
              "       4, 6, 3, 9, 4, 1, 8, 8, 3, 1, 9, 1, 1, 1, 7, 2, 6, 5, 3, 4, 5, 2,\n",
              "       6, 4, 3, 6, 8, 8, 4, 0, 6, 5, 7, 5, 5, 9, 4, 9, 0, 0, 0, 7, 2, 4,\n",
              "       4, 0, 5, 8, 8, 9, 9, 0, 4, 6, 6, 4, 5, 3, 4, 7, 2, 3, 9, 0, 0, 3,\n",
              "       2, 1, 2, 3, 8, 0, 7, 0, 5, 7, 5, 9, 9, 5, 8, 1, 8, 5, 3, 6, 5, 2,\n",
              "       4, 9, 3, 0, 1, 2, 9, 5, 0, 7, 5, 6, 4, 9, 0, 1, 8, 5, 2, 8, 4, 5,\n",
              "       7, 3, 8, 6, 0, 2, 0, 7, 4, 4, 9, 1, 1, 8, 1, 7, 3, 1, 8, 0, 1, 1,\n",
              "       8, 9, 6, 6, 3, 7, 3, 5, 8, 9, 6, 2, 0, 0, 1, 0, 6, 7, 2, 7, 9, 5,\n",
              "       7, 7, 5, 8, 0, 2, 8, 9, 0, 6, 9, 5, 7, 6, 4, 1, 2, 7, 5, 9, 3, 9,\n",
              "       7, 0, 4, 2, 1, 3, 6, 8, 6, 7, 8, 4, 9, 0, 6, 1, 1, 4, 5, 3, 7, 9,\n",
              "       2, 2, 2, 6, 4, 2, 8, 6, 5, 4, 6, 6, 0, 2, 7, 9, 2, 3, 6, 7, 0, 6,\n",
              "       4, 6, 8, 8, 2, 6, 8, 3, 0, 6, 2, 7, 9, 6, 3, 6, 5, 5, 9, 5, 4, 2,\n",
              "       3, 6, 6, 9, 2, 6, 2, 5, 5, 8, 0, 8])"
            ]
          },
          "metadata": {},
          "execution_count": 30
        }
      ]
    },
    {
      "cell_type": "code",
      "source": [
        "from sklearn.metrics import confusion_matrix,classification_report"
      ],
      "metadata": {
        "id": "Hm79dU0s6687"
      },
      "execution_count": 31,
      "outputs": []
    },
    {
      "cell_type": "code",
      "source": [
        "confusion_matrix(y_test,y_pred)"
      ],
      "metadata": {
        "colab": {
          "base_uri": "https://localhost:8080/"
        },
        "id": "1B6F-NhR7Fe4",
        "outputId": "1816bac2-cbfb-46f4-90de-7b8605e0fe8b"
      },
      "execution_count": 32,
      "outputs": [
        {
          "output_type": "execute_result",
          "data": {
            "text/plain": [
              "array([[51,  0,  0,  0,  0,  0,  0,  0,  0,  0],\n",
              "       [ 0, 48,  0,  0,  0,  0,  0,  0,  0,  0],\n",
              "       [ 0,  0, 46,  0,  0,  0,  0,  0,  0,  0],\n",
              "       [ 0,  0,  0, 51,  0,  0,  0,  0,  0,  0],\n",
              "       [ 0,  0,  0,  0, 52,  0,  0,  2,  0,  0],\n",
              "       [ 0,  0,  0,  0,  1, 57,  0,  0,  0,  4],\n",
              "       [ 0,  1,  0,  0,  0,  0, 63,  0,  0,  0],\n",
              "       [ 0,  0,  0,  0,  0,  0,  0, 50,  0,  0],\n",
              "       [ 0,  2,  1,  0,  0,  2,  0,  1, 54,  1],\n",
              "       [ 0,  0,  0,  1,  0,  0,  0,  1,  0, 51]])"
            ]
          },
          "metadata": {},
          "execution_count": 32
        }
      ]
    },
    {
      "cell_type": "code",
      "source": [
        "print(classification_report(y_test,y_pred))"
      ],
      "metadata": {
        "colab": {
          "base_uri": "https://localhost:8080/"
        },
        "id": "0Vkd8ZI97JbL",
        "outputId": "a7731482-4b3a-4711-840b-38db2b858b12"
      },
      "execution_count": 34,
      "outputs": [
        {
          "output_type": "stream",
          "name": "stdout",
          "text": [
            "              precision    recall  f1-score   support\n",
            "\n",
            "           0       1.00      1.00      1.00        51\n",
            "           1       0.94      1.00      0.97        48\n",
            "           2       0.98      1.00      0.99        46\n",
            "           3       0.98      1.00      0.99        51\n",
            "           4       0.98      0.96      0.97        54\n",
            "           5       0.97      0.92      0.94        62\n",
            "           6       1.00      0.98      0.99        64\n",
            "           7       0.93      1.00      0.96        50\n",
            "           8       1.00      0.89      0.94        61\n",
            "           9       0.91      0.96      0.94        53\n",
            "\n",
            "    accuracy                           0.97       540\n",
            "   macro avg       0.97      0.97      0.97       540\n",
            "weighted avg       0.97      0.97      0.97       540\n",
            "\n"
          ]
        }
      ]
    },
    {
      "cell_type": "code",
      "source": [],
      "metadata": {
        "id": "S0V1DOg_7Q65"
      },
      "execution_count": null,
      "outputs": []
    }
  ]
}